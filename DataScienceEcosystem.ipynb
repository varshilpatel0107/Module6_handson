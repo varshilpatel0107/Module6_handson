{
 "cells": [
  {
   "cell_type": "markdown",
   "id": "014d8bf1-1333-4f8d-abad-e7b514a01068",
   "metadata": {},
   "source": [
    "# H1: Data Science Tools and Ecosystem"
   ]
  },
  {
   "cell_type": "markdown",
   "id": "0a814532-a3c1-44ce-9741-0ce7e5a94453",
   "metadata": {},
   "source": [
    "In this notebook, Data Science Tools and Ecosystem are summarized."
   ]
  },
  {
   "cell_type": "markdown",
   "id": "ca959ec5-3e91-4183-b148-8427a9fed7f4",
   "metadata": {},
   "source": [
    "Some of the popular languages that Data Scientists use are:\n",
    "1. Python\n",
    "2. Java\n",
    "3. C++\n",
    "4. C   "
   ]
  },
  {
   "cell_type": "markdown",
   "id": "6f0a4262-b98e-4930-b8e1-b1070b7b6a1d",
   "metadata": {},
   "source": [
    "Some of the commonly used libraries used by Data Scientists include:\n",
    "1. numpy\n",
    "2. pandas\n",
    "3. scikit learn"
   ]
  },
  {
   "cell_type": "markdown",
   "id": "6f63e14b-8b6a-4047-822e-4b1bd0e4305b",
   "metadata": {
    "tags": []
   },
   "source": [
    "Data Science Tools:\n",
    "1. apache spark\n",
    "2. tableau\n",
    "3. python"
   ]
  },
  {
   "cell_type": "markdown",
   "id": "25d91c13-9b78-4649-a424-15937f315969",
   "metadata": {},
   "source": [
    "Below are a few examples of evaluating arithmetic expressions in Python"
   ]
  },
  {
   "cell_type": "code",
   "execution_count": 3,
   "id": "87403c4a-f84a-4f05-923b-12410cfd40cc",
   "metadata": {
    "tags": []
   },
   "outputs": [
    {
     "data": {
      "text/plain": [
       "17"
      ]
     },
     "execution_count": 3,
     "metadata": {},
     "output_type": "execute_result"
    }
   ],
   "source": [
    "#  This a simple arithmetic expression to mutiply then add integers\n",
    "(3*4)+5"
   ]
  },
  {
   "cell_type": "code",
   "execution_count": 5,
   "id": "826e4406-3b18-44d0-bb67-e43100143457",
   "metadata": {
    "tags": []
   },
   "outputs": [
    {
     "data": {
      "text/plain": [
       "3.3333333333333335"
      ]
     },
     "execution_count": 5,
     "metadata": {},
     "output_type": "execute_result"
    }
   ],
   "source": [
    "#  This will convert 200 minutes to hours by diving by 60\n",
    "200/60"
   ]
  },
  {
   "cell_type": "markdown",
   "id": "d2255f23-ab64-4575-9de7-1db15de8ac79",
   "metadata": {
    "tags": []
   },
   "source": [
    "**Objectives:**"
   ]
  },
  {
   "cell_type": "markdown",
   "id": "f503702a-2e95-4d1e-bab7-bdaebae92139",
   "metadata": {},
   "source": [
    "List popular languages for Data Science\n",
    "- python\n",
    "- R\n",
    "- scala"
   ]
  },
  {
   "cell_type": "markdown",
   "id": "c655331f-ce8d-49ca-8f54-b431e9d4ccf9",
   "metadata": {},
   "source": [
    "# H2 Author: Varshilkumar Patel"
   ]
  }
 ],
 "metadata": {
  "kernelspec": {
   "display_name": "Python",
   "language": "python",
   "name": "conda-env-python-py"
  },
  "language_info": {
   "codemirror_mode": {
    "name": "ipython",
    "version": 3
   },
   "file_extension": ".py",
   "mimetype": "text/x-python",
   "name": "python",
   "nbconvert_exporter": "python",
   "pygments_lexer": "ipython3",
   "version": "3.7.12"
  }
 },
 "nbformat": 4,
 "nbformat_minor": 5
}
